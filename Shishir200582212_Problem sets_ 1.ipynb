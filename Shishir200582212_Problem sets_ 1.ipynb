{
 "cells": [
  {
   "cell_type": "markdown",
   "id": "f955da5b",
   "metadata": {},
   "source": [
    "# Problem Sets - 1 "
   ]
  },
  {
   "cell_type": "markdown",
   "id": "ca00b60a",
   "metadata": {},
   "source": [
    "# Question No 1\n"
   ]
  },
  {
   "cell_type": "markdown",
   "id": "2d893ad8",
   "metadata": {},
   "source": [
    " 1. What data type is each of the following (evaluate where necessary)?\n",
    "\n",
    "  a) 5,  b) 5.0  c) 5 > 1  d) '5' e) 5 * 2  f) '5' * 2  g) '5'+'2'  h) 5/2  i) 5 % 2  j) {5,2,1}  k) 5== 3  l) Pi (the number)\n"
   ]
  },
  {
   "cell_type": "code",
   "execution_count": 104,
   "id": "ed8aadb8",
   "metadata": {},
   "outputs": [
    {
     "name": "stdout",
     "output_type": "stream",
     "text": [
      "<class 'int'>\n",
      "<class 'float'>\n",
      "<class 'bool'>\n",
      "<class 'str'>\n",
      "<class 'str'>\n",
      "<class 'str'>\n",
      "<class 'float'>\n",
      "<class 'int'>\n",
      "<class 'set'>\n",
      "<class 'bool'>\n",
      "<class 'float'>\n"
     ]
    }
   ],
   "source": [
    "import math # we have to use impor math to get value for \"pi\".\n",
    "\n",
    "\n",
    "print(type(5))\n",
    "print(type(5.0))\n",
    "print(type(5>1))\n",
    "print(type('5'))\n",
    "print(type('5'*2))\n",
    "print(type('5'+'2'))\n",
    "print(type(5/2))\n",
    "print(type(5%2))\n",
    "print(type({5,2,1}))\n",
    "print(type(5 ==3))\n",
    "print(type(math.pi))"
   ]
  },
  {
   "cell_type": "markdown",
   "id": "30656f2e",
   "metadata": {},
   "source": [
    "# Question No 2"
   ]
  },
  {
   "cell_type": "markdown",
   "id": "a81e108e",
   "metadata": {},
   "source": [
    " a. How many letters are there in 'Supercalifragilisticexpialidocious'?"
   ]
  },
  {
   "cell_type": "code",
   "execution_count": 105,
   "id": "5348c6b5",
   "metadata": {},
   "outputs": [
    {
     "name": "stdout",
     "output_type": "stream",
     "text": [
      " Number of words: 34\n"
     ]
    }
   ],
   "source": [
    "words = 'Supercalifragilisticexpialidocious'\n",
    "number_of_words = len(words)\n",
    "print(f\" Number of words: {number_of_words}\")"
   ]
  },
  {
   "cell_type": "markdown",
   "id": "1b0afc10",
   "metadata": {},
   "source": [
    " b. Does 'Supercalifragilisticexpialidocious' contain 'ice' as a substring?"
   ]
  },
  {
   "cell_type": "code",
   "execution_count": 106,
   "id": "f1ad0238",
   "metadata": {},
   "outputs": [
    {
     "name": "stdout",
     "output_type": "stream",
     "text": [
      "Contains 'ice': True\n"
     ]
    }
   ],
   "source": [
    "having_word_ice = 'ice' in words\n",
    "print(f\"Contains 'ice': {having_word_ice}\")"
   ]
  },
  {
   "cell_type": "markdown",
   "id": "85e5a574",
   "metadata": {},
   "source": [
    " c. Which of the following words is the longest: 'Supercalifragilisticexpialidocious', 'Honorificabilitudinitatibus', or 'Bababadalgharaghtakamminarronnkonn'?\n"
   ]
  },
  {
   "cell_type": "code",
   "execution_count": 107,
   "id": "a9f9b5ab",
   "metadata": {},
   "outputs": [
    {
     "name": "stdout",
     "output_type": "stream",
     "text": [
      " Longest word: Supercalifragilisticexpialidocious\n"
     ]
    }
   ],
   "source": [
    "words = ['Supercalifragilisticexpialidocious', 'Honorificabilitudinitatibus', 'Bababadalgharaghtakamminarronnkonn']\n",
    "longest_word = max(words, key = len)\n",
    "print(f\" Longest word: {longest_word}\")"
   ]
  },
  {
   "cell_type": "markdown",
   "id": "f2e34a88",
   "metadata": {},
   "source": [
    " d.  Which composer comes first in the dictionary: 'Berlioz', 'Borodin', 'Brian', 'Bartok' , 'Bellini', 'Buxtehude', 'Bernstein'. Which one comes last?\n",
    "  "
   ]
  },
  {
   "cell_type": "code",
   "execution_count": 108,
   "id": "6eda45e8",
   "metadata": {},
   "outputs": [
    {
     "name": "stdout",
     "output_type": "stream",
     "text": [
      " First word is: Bartok, Last word is: Buxtehude\n"
     ]
    }
   ],
   "source": [
    "dictionary = ['Berlioz', 'Borodin', 'Brian', 'Bartok', 'Bellini', 'Buxtehude', 'Bernstein']\n",
    "first_word = min(dictionary)\n",
    "last_word = max(dictionary)\n",
    "print(f\" First word is: {first_word}, Last word is: {last_word}\")"
   ]
  },
  {
   "cell_type": "markdown",
   "id": "c6cfd904",
   "metadata": {},
   "source": [
    "# Question No 3"
   ]
  },
  {
   "cell_type": "markdown",
   "id": "ee4ff3db",
   "metadata": {},
   "source": [
    " Implement function triangleArea(a,b,c) that takes as input the lengths of the 3 sides of a triangle and returns the area of the triangle. By Heron's formula, the area of a triangle with side lengths a, b, and c is $\\sqrt{s(s - a)(s -b)(s -c)}$  \n",
    "  where, s = (a+b+c)/2. \n",
    "\n",
    "\n",
    "\n",
    " "
   ]
  },
  {
   "cell_type": "code",
   "execution_count": 109,
   "id": "0bb9f8e2",
   "metadata": {},
   "outputs": [
    {
     "name": "stdout",
     "output_type": "stream",
     "text": [
      "1.7320508075688772\n"
     ]
    }
   ],
   "source": [
    "import math\n",
    "\n",
    "def triangleArea(a, b, c):\n",
    "    s = (a + b + c) / 2  # first, calculate the semi-perimeter  \n",
    "    area_of_triangle = math.sqrt(s * (s - a) * (s - b) * (s - c)) # Calculate the area of triangle\n",
    "    \n",
    "    return area_of_triangle\n",
    "area = triangleArea(2, 2, 2)  # Test the function with the given example\n",
    "print(area)"
   ]
  },
  {
   "cell_type": "markdown",
   "id": "36266528",
   "metadata": {},
   "source": [
    "# Question No 4"
   ]
  },
  {
   "cell_type": "markdown",
   "id": "c808c899",
   "metadata": {},
   "source": [
    "Write a program in python to separate odd and even integers in separate arrays. Go to the editor\n",
    "\n",
    "Test Data :\n",
    "\n",
    "Input the number of elements to be stored in the array :5\n",
    "\n",
    "Input 5 elements in the array :\n",
    "\n",
    "element - 0 : 25\n",
    "\n",
    "element - 1 : 47\n",
    "\n",
    "element - 2 : 42\n",
    "\n",
    "element - 3 : 56\n",
    "\n",
    "element - 4 : 32\n"
   ]
  },
  {
   "cell_type": "code",
   "execution_count": 110,
   "id": "224a09e3",
   "metadata": {},
   "outputs": [
    {
     "name": "stdout",
     "output_type": "stream",
     "text": [
      "The Even elements are:\n",
      "[42, 56, 32]\n",
      "The Odd elements are:\n",
      "[25, 47]\n"
     ]
    }
   ],
   "source": [
    "array = [25,47,42,56,32]\n",
    "even_integers =[]\n",
    "odd_integers =[]\n",
    "\n",
    "for integer in array:\n",
    "    if (integer %2) == 0:\n",
    "        even_integers.append(integer)\n",
    "    else: odd_integers.append(integer)\n",
    "      \n",
    "    \n",
    "print(\"The Even elements are:\")\n",
    "print(even_integers)\n",
    "print(\"The Odd elements are:\")\n",
    "print(odd_integers)"
   ]
  },
  {
   "cell_type": "markdown",
   "id": "6890eeb5",
   "metadata": {},
   "source": [
    "# Question No 5"
   ]
  },
  {
   "cell_type": "markdown",
   "id": "07617ac4",
   "metadata": {},
   "source": [
    " a.  Write a function inside(x,y,x1,y1,x2,y2) that returns True or False depending on whether the point (x,y) lies in the rectangle with lower left corner (x1,y1) and upper right corner (x2,y2). \n",
    "\n"
   ]
  },
  {
   "cell_type": "code",
   "execution_count": 111,
   "id": "c5e7394f",
   "metadata": {},
   "outputs": [
    {
     "name": "stdout",
     "output_type": "stream",
     "text": [
      "inside(1,1,0,0,2,3) =  True\n",
      "inside(-1, -1, 0, 0, 2,3) = False\n"
     ]
    }
   ],
   "source": [
    "def inside(x, y, x1, y1, x2, y2):\n",
    "    \n",
    "    return x1 <= x <= x2 and y1 <= y <= y2 # Checking whether (x, y) is inside the rectangle defined by (x1, y1) and (x2, y2).\n",
    "\n",
    "result1 = inside(1, 1, 0, 0, 2, 3)\n",
    "result2 = inside(-1, -1, 0, 0, 2, 3)\n",
    "print(f\"inside(1,1,0,0,2,3) =  {result1}\") \n",
    "print(f\"inside(-1, -1, 0, 0, 2,3) = {result2}\")\n",
    "\n"
   ]
  },
  {
   "cell_type": "markdown",
   "id": "d712f9f6",
   "metadata": {},
   "source": [
    " b. Use function inside() from part a. to write an expression that tests whether the point (1,1) lies in both of the following rectangles: one with lower left corner (0.3, 0.5) and upper right corner (1.1, 0.7) and the other with lower left corner (0.5, 0.2) and upper right corner (1.1, 2).\n",
    "\n",
    "\n"
   ]
  },
  {
   "cell_type": "code",
   "execution_count": 112,
   "id": "5d540a7f",
   "metadata": {},
   "outputs": [
    {
     "name": "stdout",
     "output_type": "stream",
     "text": [
      "False\n",
      "True\n"
     ]
    }
   ],
   "source": [
    "def inside(x, y, x1, y1, x2, y2):\n",
    "    \n",
    "    return x1 <= x <= x2 and y1 <= y <= y2\n",
    "\n",
    "print(inside(1, 1, 0.3, 0.5, 1.1, 0.7))\n",
    "print(inside(1, 1, 0.5, 0.2, 1.1, 2))"
   ]
  },
  {
   "cell_type": "markdown",
   "id": "8e2a467b",
   "metadata": {},
   "source": [
    "# Question No 6"
   ]
  },
  {
   "cell_type": "markdown",
   "id": "780f1203",
   "metadata": {},
   "source": [
    "You can turn a word into pig-Latin using the following two rules (simplified):\n",
    "• If the word starts with a consonant, move that letter to the end and append 'ay'. For example, 'happy' becomes 'appyhay' and 'pencil' becomes 'encilpay'.\n",
    "\n",
    "• If the word starts with a vowel, simply append 'way' to the end of the word. For example, 'enter' becomes 'enterway' and 'other' becomes 'otherway' . For our purposes, there are 5 vowels: a, e, i, o, u (so we count y as a consonant).\n",
    "\n",
    "Write a function pig() that takes a word (i.e., a string) as input and returns its pigLatin form. Your function should still work if the input word contains upper case characters. "
   ]
  },
  {
   "cell_type": "code",
   "execution_count": 113,
   "id": "5a3f854d",
   "metadata": {},
   "outputs": [
    {
     "name": "stdout",
     "output_type": "stream",
     "text": [
      "appyhay\n",
      "enterway\n"
     ]
    }
   ],
   "source": [
    "def pig(word):\n",
    "   \n",
    "    word = word.lower() # converting word into lower case\n",
    "    if word[0] in ['a', 'e', 'i', 'o', 'u']: #checking whether word starts with vowel or not\n",
    "        return word + 'way'\n",
    "    else:\n",
    "        return word[1:] + word[0] + 'ay'\n",
    "\n",
    "print(pig('happy'))  \n",
    "print(pig('Enter'))  "
   ]
  },
  {
   "cell_type": "markdown",
   "id": "22657b54",
   "metadata": {},
   "source": [
    "# Question No 7"
   ]
  },
  {
   "cell_type": "markdown",
   "id": "7d97fbdd",
   "metadata": {},
   "source": [
    "File bloodtype1.txt records blood-types of patients (A, B, AB, O or OO) at a clinic. Write a function bldcount() that reads the file with name name and reports (i.e., prints) how many patients there are in each bloodtype.\n"
   ]
  },
  {
   "cell_type": "code",
   "execution_count": 114,
   "id": "1d75bc52",
   "metadata": {},
   "outputs": [
    {
     "name": "stdout",
     "output_type": "stream",
     "text": [
      "There are 15 patients of blood type A.\n",
      "There is one patient of blood type B.\n",
      "There are 13 patients of blood type AB.\n",
      "There are 15 patients of blood type O.\n",
      "There are no patients of blood type OO.\n"
     ]
    }
   ],
   "source": [
    "def bldcount(filename):\n",
    "    # storing the bloodtypes in dictionary\n",
    "    bloodtype_count = {'A': 0, 'B': 0, 'AB': 0, 'O': 0, 'OO': 0}\n",
    " \n",
    "    # counting the occurrences of blood types\n",
    "    with open(filename, 'r') as file:\n",
    "        bloodtypes = file.read().strip().upper().split()\n",
    " \n",
    "        for bloodtype in bloodtypes:\n",
    "            # count increment\n",
    "            bloodtype_count[bloodtype] += 1\n",
    " \n",
    "    # Reporting the counts\n",
    "    for bloodtype, count in bloodtype_count.items():\n",
    "        if count == 1:\n",
    "            print(f'There is one patient of blood type {bloodtype}.')\n",
    "        elif count > 1:\n",
    "            print(f'There are {count} patients of blood type {bloodtype}.')\n",
    "        else:\n",
    "            print(f'There are no patients of blood type {bloodtype}.')\n",
    " \n",
    " \n",
    "bldcount('bloodtype1.txt')\n",
    "           \n",
    "      "
   ]
  },
  {
   "cell_type": "markdown",
   "id": "8a909dce",
   "metadata": {},
   "source": [
    "# Question No 8"
   ]
  },
  {
   "cell_type": "markdown",
   "id": "71bee41c",
   "metadata": {},
   "source": [
    "Write a function curconv() that takes as input:\n",
    "\n",
    "1. a currency represented using a string (e.g., 'JPY' for the Japanese Yen or\n",
    "'EUR' for the Euro)\n",
    "\n",
    "2. an amount\n",
    "\n",
    "and then converts and returns the amount in US dollars."
   ]
  },
  {
   "cell_type": "code",
   "execution_count": 142,
   "id": "142ab0d9",
   "metadata": {},
   "outputs": [
    {
     "name": "stdout",
     "output_type": "stream",
     "text": [
      "There are 15 patients of blood type A.\n",
      "There is one patient of blood type B.\n",
      "There are 13 patients of blood type AB.\n",
      "There are 15 patients of blood type O.\n",
      "There are no patients of blood type OO.\n"
     ]
    }
   ],
   "source": [
    "# 1.\n",
    "def bldcount(filename):\n",
    "    # storing the bloodtypes in dictionary\n",
    "    bloodtype_count = {'A': 0, 'B': 0, 'AB': 0, 'O': 0, 'OO': 0}\n",
    " \n",
    "    # counting the occurrences of blood types\n",
    "    with open(filename, 'r') as file:\n",
    "        bloodtypes = file.read().strip().upper().split()\n",
    " \n",
    "        for bloodtype in bloodtypes:\n",
    "            bloodtype_count[bloodtype] += 1\n",
    " \n",
    "    # Reporting the counts\n",
    "    for bloodtype, count in bloodtype_count.items():\n",
    "        if count == 1:\n",
    "            print(f'There is one patient of blood type {bloodtype}.')\n",
    "        elif count > 1:\n",
    "            print(f'There are {count} patients of blood type {bloodtype}.')\n",
    "        else:\n",
    "            print(f'There are no patients of blood type {bloodtype}.')\n",
    " \n",
    " \n",
    "bldcount('bloodtype1.txt')"
   ]
  },
  {
   "cell_type": "code",
   "execution_count": 126,
   "id": "a3475a28",
   "metadata": {},
   "outputs": [
    {
     "name": "stdout",
     "output_type": "stream",
     "text": [
      "result_eur: 122.96544\n",
      "result_jpy: 1.241401\n"
     ]
    }
   ],
   "source": [
    "# 2.\n",
    "def curconv(currency, amount):\n",
    "    currency_rates = {}\n",
    "    with open('currencies.txt', 'r') as file:\n",
    "        for line in file:\n",
    "            code, rate, *name = line.split()\n",
    "            currency_rates[code] = float(rate)\n",
    " \n",
    "    # Converting into USD\n",
    "    if currency.upper() in currency_rates:\n",
    "        us_dollars = amount * currency_rates[currency.upper()]\n",
    "        return us_dollars\n",
    "    else:\n",
    "        return \"Invalid currency code\"\n",
    " \n",
    "eur = curconv('EUR', 100)\n",
    "jpy = curconv('JPY', 100)\n",
    " \n",
    "print(f\"result_eur: {eur}\") \n",
    "print(f\"result_jpy: {jpy}\")"
   ]
  },
  {
   "cell_type": "markdown",
   "id": "5bd5aa75",
   "metadata": {},
   "source": [
    "# Question No 9"
   ]
  },
  {
   "cell_type": "markdown",
   "id": "915d48e7",
   "metadata": {},
   "source": [
    "Each of the following will cause an exception (an error). Identify what type of exception each will cause.\n",
    "\n",
    "i. Trying to add incompatible variables, as in adding 6 + ‘a’\n",
    "\n",
    "ii. Referring to the 12th item of a list that has only 10 items\n",
    "\n",
    "iii. Using a value that is out of range for a function’s input, such as calling math.sqrt(-1.0)\n",
    "\n",
    "iv. Using an undeclared variable, such as print(x) when x has not been defined\n",
    "\n",
    "v. Trying to open a file that does not exist, such as mistyping the file name or looking in the wrong directory"
   ]
  },
  {
   "cell_type": "code",
   "execution_count": 117,
   "id": "12aa2ff9",
   "metadata": {},
   "outputs": [
    {
     "ename": "TypeError",
     "evalue": "unsupported operand type(s) for +: 'int' and 'str'",
     "output_type": "error",
     "traceback": [
      "\u001b[1;31m---------------------------------------------------------------------------\u001b[0m",
      "\u001b[1;31mTypeError\u001b[0m                                 Traceback (most recent call last)",
      "Cell \u001b[1;32mIn[117], line 2\u001b[0m\n\u001b[0;32m      1\u001b[0m \u001b[38;5;66;03m# i. Trying to add incompatible variables, as in adding 6 + ‘a’\u001b[39;00m\n\u001b[1;32m----> 2\u001b[0m \u001b[38;5;28mprint\u001b[39m(\u001b[38;5;241m6\u001b[39m\u001b[38;5;241m+\u001b[39m\u001b[38;5;124m'\u001b[39m\u001b[38;5;124ma\u001b[39m\u001b[38;5;124m'\u001b[39m)\n",
      "\u001b[1;31mTypeError\u001b[0m: unsupported operand type(s) for +: 'int' and 'str'"
     ]
    }
   ],
   "source": [
    "# i. Trying to add incompatible variables, as in adding 6 + ‘a’\n",
    "print(6+'a')"
   ]
  },
  {
   "cell_type": "code",
   "execution_count": 118,
   "id": "30534199",
   "metadata": {},
   "outputs": [
    {
     "ename": "IndexError",
     "evalue": "list index out of range",
     "output_type": "error",
     "traceback": [
      "\u001b[1;31m---------------------------------------------------------------------------\u001b[0m",
      "\u001b[1;31mIndexError\u001b[0m                                Traceback (most recent call last)",
      "Cell \u001b[1;32mIn[118], line 3\u001b[0m\n\u001b[0;32m      1\u001b[0m \u001b[38;5;66;03m# ii. Referring to the 12th item of a list that has only 10 items\u001b[39;00m\n\u001b[0;32m      2\u001b[0m List \u001b[38;5;241m=\u001b[39m [\u001b[38;5;241m1\u001b[39m,\u001b[38;5;241m2\u001b[39m,\u001b[38;5;241m3\u001b[39m,\u001b[38;5;241m4\u001b[39m,\u001b[38;5;241m5\u001b[39m,\u001b[38;5;241m6\u001b[39m,\u001b[38;5;241m7\u001b[39m,\u001b[38;5;241m8\u001b[39m,\u001b[38;5;241m9\u001b[39m,\u001b[38;5;241m10\u001b[39m]\n\u001b[1;32m----> 3\u001b[0m \u001b[38;5;28mprint\u001b[39m(List[\u001b[38;5;241m11\u001b[39m])\n",
      "\u001b[1;31mIndexError\u001b[0m: list index out of range"
     ]
    }
   ],
   "source": [
    "# ii. Referring to the 12th item of a list that has only 10 items\n",
    "List = [1,2,3,4,5,6,7,8,9,10]\n",
    "print(List[11])"
   ]
  },
  {
   "cell_type": "code",
   "execution_count": 119,
   "id": "68b6b104",
   "metadata": {},
   "outputs": [
    {
     "ename": "ValueError",
     "evalue": "math domain error",
     "output_type": "error",
     "traceback": [
      "\u001b[1;31m---------------------------------------------------------------------------\u001b[0m",
      "\u001b[1;31mValueError\u001b[0m                                Traceback (most recent call last)",
      "Cell \u001b[1;32mIn[119], line 3\u001b[0m\n\u001b[0;32m      1\u001b[0m \u001b[38;5;66;03m# iii. Using a value that is out of range for a function’s input, such as calling math.sqrt(-1.0)\u001b[39;00m\n\u001b[0;32m      2\u001b[0m \u001b[38;5;28;01mimport\u001b[39;00m \u001b[38;5;21;01mmath\u001b[39;00m\n\u001b[1;32m----> 3\u001b[0m math\u001b[38;5;241m.\u001b[39msqrt(\u001b[38;5;241m-\u001b[39m\u001b[38;5;241m1.0\u001b[39m)\n",
      "\u001b[1;31mValueError\u001b[0m: math domain error"
     ]
    }
   ],
   "source": [
    "# iii. Using a value that is out of range for a function’s input, such as calling math.sqrt(-1.0)\n",
    "import math\n",
    "math.sqrt(-1.0)"
   ]
  },
  {
   "cell_type": "code",
   "execution_count": 120,
   "id": "96564dc7",
   "metadata": {},
   "outputs": [
    {
     "ename": "NameError",
     "evalue": "name 'a' is not defined",
     "output_type": "error",
     "traceback": [
      "\u001b[1;31m---------------------------------------------------------------------------\u001b[0m",
      "\u001b[1;31mNameError\u001b[0m                                 Traceback (most recent call last)",
      "Cell \u001b[1;32mIn[120], line 2\u001b[0m\n\u001b[0;32m      1\u001b[0m \u001b[38;5;66;03m# iv. Using an undeclared variable, such as print(x) when x has not been defined\u001b[39;00m\n\u001b[1;32m----> 2\u001b[0m \u001b[38;5;28mprint\u001b[39m(a)\n",
      "\u001b[1;31mNameError\u001b[0m: name 'a' is not defined"
     ]
    }
   ],
   "source": [
    "# iv. Using an undeclared variable, such as print(x) when x has not been defined\n",
    "print(a)"
   ]
  },
  {
   "cell_type": "code",
   "execution_count": 121,
   "id": "3db2927a",
   "metadata": {},
   "outputs": [
    {
     "ename": "FileNotFoundError",
     "evalue": "[Errno 2] No such file or directory: 'hello.txt'",
     "output_type": "error",
     "traceback": [
      "\u001b[1;31m---------------------------------------------------------------------------\u001b[0m",
      "\u001b[1;31mFileNotFoundError\u001b[0m                         Traceback (most recent call last)",
      "Cell \u001b[1;32mIn[121], line 2\u001b[0m\n\u001b[0;32m      1\u001b[0m \u001b[38;5;66;03m# v. Trying to open a file that does not exist, such as mistyping the file name or looking in the wrong directory.\u001b[39;00m\n\u001b[1;32m----> 2\u001b[0m \u001b[38;5;28mopen\u001b[39m(\u001b[38;5;124m'\u001b[39m\u001b[38;5;124mhello.txt\u001b[39m\u001b[38;5;124m'\u001b[39m,\u001b[38;5;124m'\u001b[39m\u001b[38;5;124mr\u001b[39m\u001b[38;5;124m'\u001b[39m)\n",
      "File \u001b[1;32m~\\anaconda3\\Lib\\site-packages\\IPython\\core\\interactiveshell.py:286\u001b[0m, in \u001b[0;36m_modified_open\u001b[1;34m(file, *args, **kwargs)\u001b[0m\n\u001b[0;32m    279\u001b[0m \u001b[38;5;28;01mif\u001b[39;00m file \u001b[38;5;129;01min\u001b[39;00m {\u001b[38;5;241m0\u001b[39m, \u001b[38;5;241m1\u001b[39m, \u001b[38;5;241m2\u001b[39m}:\n\u001b[0;32m    280\u001b[0m     \u001b[38;5;28;01mraise\u001b[39;00m \u001b[38;5;167;01mValueError\u001b[39;00m(\n\u001b[0;32m    281\u001b[0m         \u001b[38;5;124mf\u001b[39m\u001b[38;5;124m\"\u001b[39m\u001b[38;5;124mIPython won\u001b[39m\u001b[38;5;124m'\u001b[39m\u001b[38;5;124mt let you open fd=\u001b[39m\u001b[38;5;132;01m{\u001b[39;00mfile\u001b[38;5;132;01m}\u001b[39;00m\u001b[38;5;124m by default \u001b[39m\u001b[38;5;124m\"\u001b[39m\n\u001b[0;32m    282\u001b[0m         \u001b[38;5;124m\"\u001b[39m\u001b[38;5;124mas it is likely to crash IPython. If you know what you are doing, \u001b[39m\u001b[38;5;124m\"\u001b[39m\n\u001b[0;32m    283\u001b[0m         \u001b[38;5;124m\"\u001b[39m\u001b[38;5;124myou can use builtins\u001b[39m\u001b[38;5;124m'\u001b[39m\u001b[38;5;124m open.\u001b[39m\u001b[38;5;124m\"\u001b[39m\n\u001b[0;32m    284\u001b[0m     )\n\u001b[1;32m--> 286\u001b[0m \u001b[38;5;28;01mreturn\u001b[39;00m io_open(file, \u001b[38;5;241m*\u001b[39margs, \u001b[38;5;241m*\u001b[39m\u001b[38;5;241m*\u001b[39mkwargs)\n",
      "\u001b[1;31mFileNotFoundError\u001b[0m: [Errno 2] No such file or directory: 'hello.txt'"
     ]
    }
   ],
   "source": [
    "# v. Trying to open a file that does not exist, such as mistyping the file name or looking in the wrong directory.\n",
    "open('hello.txt','r')"
   ]
  },
  {
   "cell_type": "markdown",
   "id": "8e2fb100",
   "metadata": {},
   "source": [
    " Summary answer of Question No 9\n",
    " \n",
    " Errors that occured when:\n",
    " \n",
    " i. Trying to add incompatible variables, as in adding 6 + ‘a’ **Answer: TypeError: unsupported operand type(s) for +: 'int' and 'str'**\n",
    " \n",
    " ii. Referring to the 12th item of a list that has only 10 items\n",
    " **Answer: IndexError: list index out of range**\n",
    " \n",
    " iii. Using a value that is out of range for a function’s input, such as calling math.sqrt(-1.0)\n",
    " **Answer: ValueError: math domain error**\n",
    " \n",
    " iv. Using an undeclared variable, such as print(x) when x has not been defined\n",
    " **Answer: NameError: name 'a' is not defined**\n",
    " \n",
    " v. Trying to open a file that does not exist, such as mistyping the file name or looking in the wrong directory.\n",
    " **Answer: FileNotFoundError: [Errno 2] No such file or directory: 'hello.txt'**\n"
   ]
  },
  {
   "cell_type": "markdown",
   "id": "fcf7bbc6",
   "metadata": {},
   "source": [
    "# Question No 10"
   ]
  },
  {
   "cell_type": "markdown",
   "id": "8f776496",
   "metadata": {},
   "source": [
    "Encryption is the process of hiding the meaning of a text by substituting letters in the message with other letters, according to some system. If the process is successful, no one but the intended recipient can understand the encrypted message. Cryptanalysis refers to attempts to undo the encryption, even if some details of the encryption are unknown (for example, if an encrypted message has been intercepted). The first step of cryptanalysis is often to build up a table of letter frequencies in the encrypted text. Assume that the string letters is already defined as 'abcdefghijklmnopqrstuvwxyz'. Write a function called frequencies() that takes a string as its only parameter, and returns a list of integers, showing the number of times each character appears in the text. Your function may ignore any characters that are not in letters."
   ]
  },
  {
   "cell_type": "code",
   "execution_count": 139,
   "id": "2f765fd6",
   "metadata": {},
   "outputs": [
    {
     "name": "stdout",
     "output_type": "stream",
     "text": [
      "result_1: [1, 1, 1, 3, 5, 1, 1, 2, 1, 0, 1, 0, 1, 2, 4, 0, 1, 2, 0, 3, 1, 0, 1, 1, 0, 0]\n",
      "result_2 : [1, 0, 0, 0, 1, 0, 0, 0, 0, 0, 0, 1, 0, 0, 0, 2, 0, 0, 0, 0, 0, 0, 0, 0, 0, 0]\n"
     ]
    }
   ],
   "source": [
    "def frequencies(text):\n",
    "    # set of letters\n",
    "    alphabets = 'abcdefghijklmnopqrstuvwxyz'\n",
    " \n",
    "    #storing the frequencies\n",
    "    frequency_list = [0] * 26\n",
    " \n",
    "    # Iterating\n",
    "    for char in text:\n",
    "        # Converting to lowercase\n",
    "        char = char.lower()\n",
    " \n",
    "        # Checking whether the character is a valid\n",
    "        if char in alphabets:\n",
    "            # frequency count\n",
    "            frequency_list[alphabets.index(char)] += 1\n",
    " \n",
    "    return frequency_list\n",
    " \n",
    "outcome1 = frequencies('The quick red fox got bored and went home.')\n",
    "outcome2 = frequencies('apple')\n",
    " \n",
    "print(f\"result_1: {outcome1}\") \n",
    "print(f\"result_2 : {outcome2}\")"
   ]
  },
  {
   "cell_type": "code",
   "execution_count": null,
   "id": "fef7cfa0",
   "metadata": {},
   "outputs": [],
   "source": []
  }
 ],
 "metadata": {
  "kernelspec": {
   "display_name": "Python 3 (ipykernel)",
   "language": "python",
   "name": "python3"
  },
  "language_info": {
   "codemirror_mode": {
    "name": "ipython",
    "version": 3
   },
   "file_extension": ".py",
   "mimetype": "text/x-python",
   "name": "python",
   "nbconvert_exporter": "python",
   "pygments_lexer": "ipython3",
   "version": "3.11.5"
  }
 },
 "nbformat": 4,
 "nbformat_minor": 5
}
